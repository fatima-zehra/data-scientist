{
 "cells": [
  {
   "cell_type": "code",
   "execution_count": 1,
   "id": "acfd7fdd",
   "metadata": {},
   "outputs": [
    {
     "name": "stdout",
     "output_type": "stream",
     "text": [
      "Twinkle, twinkle, little star, \n",
      "\tHow I wonder what you are! \n",
      "\t\tUp above the world so high, \n",
      "\t\tLike a diamond in the sky. \n",
      "Twinkle, twinkle, little star, \n",
      "\tHow I wonder what you are!\n"
     ]
    }
   ],
   "source": [
    "print(\"Twinkle, twinkle, little star, \\n\\tHow I wonder what you are! \\n\\t\\tUp above the world so high, \\n\\t\\tLike a diamond in the sky. \\nTwinkle, twinkle, little star, \\n\\tHow I wonder what you are!\")\n"
   ]
  },
  {
   "cell_type": "code",
   "execution_count": 2,
   "id": "378d774d",
   "metadata": {},
   "outputs": [
    {
     "name": "stdout",
     "output_type": "stream",
     "text": [
      "3.8.8\n"
     ]
    }
   ],
   "source": [
    "import platform\n",
    "print(platform.python_version())"
   ]
  },
  {
   "cell_type": "code",
   "execution_count": 3,
   "id": "a520a39f",
   "metadata": {},
   "outputs": [
    {
     "name": "stdout",
     "output_type": "stream",
     "text": [
      "Current date and time : \n",
      "2021-10-22 00:06:00\n"
     ]
    }
   ],
   "source": [
    "import datetime\n",
    "now = datetime.datetime.now()\n",
    "print (\"Current date and time : \")\n",
    "print (now.strftime(\"%Y-%m-%d %H:%M:%S\"))"
   ]
  },
  {
   "cell_type": "code",
   "execution_count": 22,
   "id": "eacdffcb",
   "metadata": {},
   "outputs": [
    {
     "name": "stdout",
     "output_type": "stream",
     "text": [
      "Input the radius of the circle : 77\n",
      "The area of the circle with radius 77.0 is: 18626.502843133883\n"
     ]
    }
   ],
   "source": [
    "from math import pi\n",
    "r = float(input (\"Input the radius of the circle : \"))\n",
    "print (\"The area of the circle with radius \" + str(r) + \" is: \" + str(pi * r**2))"
   ]
  },
  {
   "cell_type": "code",
   "execution_count": null,
   "id": "16151499",
   "metadata": {},
   "outputs": [],
   "source": [
    "firstname = input(\"Input your First Name : \")\n",
    "lastname = input(\"Input your Last Name : \")\n",
    "print (\"Hello  \" + lastname + \" \" + firstname)\n"
   ]
  },
  {
   "cell_type": "code",
   "execution_count": null,
   "id": "b5fead06",
   "metadata": {},
   "outputs": [],
   "source": [
    "a = int(input(\"enter first number: \"));\n",
    "b = int(input(\"enter second number: \"));\n",
    " \n",
    "sum = a + b;\n",
    " \n",
    "print(\"sum:\", sum);"
   ]
  },
  {
   "cell_type": "code",
   "execution_count": 17,
   "id": "01f84be1",
   "metadata": {},
   "outputs": [
    {
     "name": "stdout",
     "output_type": "stream",
     "text": [
      "Enter Marks Obtained in 5 Subjects: \n",
      "43\n",
      "89\n",
      "90\n",
      "67\n",
      "65\n",
      "Your Grade is B2\n"
     ]
    }
   ],
   "source": [
    "print(\"Enter Marks Obtained in 5 Subjects: \")\n",
    "markOne = int(input())\n",
    "markTwo = int(input())\n",
    "markThree = int(input())\n",
    "markFour = int(input())\n",
    "markFive = int(input())\n",
    "\n",
    "tot = markOne+markTwo+markThree+markFour+markFive\n",
    "avg = tot/5\n",
    "\n",
    "if avg>=91 and avg<=100:\n",
    "    print(\"Your Grade is A1\")\n",
    "elif avg>=81 and avg<91:\n",
    "    print(\"Your Grade is A2\")\n",
    "elif avg>=71 and avg<81:\n",
    "    print(\"Your Grade is B1\")\n",
    "elif avg>=61 and avg<71:\n",
    "    print(\"Your Grade is B2\")\n",
    "elif avg>=51 and avg<61:\n",
    "    print(\"Your Grade is C1\")\n",
    "elif avg>=41 and avg<51:\n",
    "    print(\"Your Grade is C2\")\n",
    "elif avg>=33 and avg<41:\n",
    "    print(\"Your Grade is D\")\n",
    "elif avg>=21 and avg<33:\n",
    "    print(\"Your Grade is E1\")\n",
    "elif avg>=0 and avg<21:\n",
    "    print(\"Your Grade is E2\")\n",
    "else:\n",
    "    print(\"Invalid Input!\")"
   ]
  },
  {
   "cell_type": "code",
   "execution_count": 18,
   "id": "b3e7b54c",
   "metadata": {},
   "outputs": [
    {
     "name": "stdout",
     "output_type": "stream",
     "text": [
      "Enter a number: 67990\n",
      "This is an even number.\n"
     ]
    }
   ],
   "source": [
    "num = int(input(\"Enter a number: \"))\n",
    "mod = num % 2\n",
    "if mod > 0:\n",
    "    print(\"This is an odd number.\")\n",
    "else:\n",
    "    print(\"This is an even number.\")"
   ]
  },
  {
   "cell_type": "code",
   "execution_count": 2,
   "id": "7287b5d4",
   "metadata": {},
   "outputs": [
    {
     "name": "stdout",
     "output_type": "stream",
     "text": [
      "Number of items in the list =  5\n"
     ]
    }
   ],
   "source": [
    "ListName = [\"Hello\", \"Edureka\", 1, 2, 3];\n",
    "print (\"Number of items in the list = \", len(ListName));"
   ]
  },
  {
   "cell_type": "code",
   "execution_count": 19,
   "id": "ac71dbd0",
   "metadata": {},
   "outputs": [
    {
     "name": "stdout",
     "output_type": "stream",
     "text": [
      "-5\n"
     ]
    }
   ],
   "source": [
    "def sum_list(items):\n",
    "    sum_numbers = 0\n",
    "    for x in items:\n",
    "        sum_numbers += x\n",
    "    return sum_numbers\n",
    "print(sum_list([1,2,-8]))"
   ]
  },
  {
   "cell_type": "code",
   "execution_count": 20,
   "id": "73c1a79e",
   "metadata": {},
   "outputs": [
    {
     "name": "stdout",
     "output_type": "stream",
     "text": [
      "2\n"
     ]
    }
   ],
   "source": [
    "def max_num_in_list( list ):\n",
    "    max = list[ 0 ]\n",
    "    for a in list:\n",
    "        if a > max:\n",
    "            max = a\n",
    "    return max\n",
    "print(max_num_in_list([1, 2, -8, 0]))"
   ]
  },
  {
   "cell_type": "code",
   "execution_count": 21,
   "id": "c911b1d7",
   "metadata": {},
   "outputs": [
    {
     "name": "stdout",
     "output_type": "stream",
     "text": [
      " The question is :-\n",
      " Take a list, say for example this one:\n",
      "\n",
      "  a = [1, 1, 2, 3, 5, 8, 13, 21, 34, 55, 89]\n",
      "\n",
      "and write a program that prints out all the elements of the list that are less than 5.\n",
      "           And i will program accordingly.\n",
      "\n",
      "1\n",
      "\n",
      "1\n",
      "\n",
      "2\n",
      "\n",
      "3\n",
      "\n"
     ]
    }
   ],
   "source": [
    "print (\"\"\" The question is :-\\n Take a list, say for example this one:\\n\n",
    "  a = [1, 1, 2, 3, 5, 8, 13, 21, 34, 55, 89]\\n\n",
    "and write a program that prints out all the elements of the list that are less than 5.\n",
    "           And i will program accordingly.\\n\"\"\")\n",
    "\n",
    "test_list= [1, 1, 2, 3, 5, 8, 13, 21, 34, 55, 89]\n",
    "for element in test_list:\n",
    "    if(int(element) <5):\n",
    "        print(str(element)+\"\\n\")"
   ]
  },
  {
   "cell_type": "code",
   "execution_count": null,
   "id": "228b86f1",
   "metadata": {},
   "outputs": [],
   "source": []
  }
 ],
 "metadata": {
  "kernelspec": {
   "display_name": "Python 3",
   "language": "python",
   "name": "python3"
  },
  "language_info": {
   "codemirror_mode": {
    "name": "ipython",
    "version": 3
   },
   "file_extension": ".py",
   "mimetype": "text/x-python",
   "name": "python",
   "nbconvert_exporter": "python",
   "pygments_lexer": "ipython3",
   "version": "3.8.8"
  }
 },
 "nbformat": 4,
 "nbformat_minor": 5
}
